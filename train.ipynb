{
 "cells": [
  {
   "cell_type": "code",
   "execution_count": 1,
   "metadata": {},
   "outputs": [],
   "source": [
    "from fastai.vision import *\n",
    "import numpy as np\n",
    "import matplotlib.pyplot as plt\n",
    "import pandas as pd"
   ]
  },
  {
   "cell_type": "code",
   "execution_count": 2,
   "metadata": {
    "scrolled": false
   },
   "outputs": [],
   "source": [
    "img_df = pd.read_csv('../skin_cancer_dataset/ISIC2018_Task3_Training_GroundTruth/ISIC2018_Task3_Training_GroundTruth.csv')"
   ]
  },
  {
   "cell_type": "code",
   "execution_count": 3,
   "metadata": {
    "scrolled": true
   },
   "outputs": [
    {
     "name": "stdout",
     "output_type": "stream",
     "text": [
      "              image  MEL   NV  BCC  AKIEC  BKL   DF  VASC\n",
      "0      ISIC_0024306  0.0  1.0  0.0    0.0  0.0  0.0   0.0\n",
      "1      ISIC_0024307  0.0  1.0  0.0    0.0  0.0  0.0   0.0\n",
      "2      ISIC_0024308  0.0  1.0  0.0    0.0  0.0  0.0   0.0\n",
      "3      ISIC_0024309  0.0  1.0  0.0    0.0  0.0  0.0   0.0\n",
      "4      ISIC_0024310  1.0  0.0  0.0    0.0  0.0  0.0   0.0\n",
      "5      ISIC_0024311  0.0  1.0  0.0    0.0  0.0  0.0   0.0\n",
      "6      ISIC_0024312  0.0  0.0  0.0    0.0  1.0  0.0   0.0\n",
      "7      ISIC_0024313  1.0  0.0  0.0    0.0  0.0  0.0   0.0\n",
      "8      ISIC_0024314  0.0  1.0  0.0    0.0  0.0  0.0   0.0\n",
      "9      ISIC_0024315  1.0  0.0  0.0    0.0  0.0  0.0   0.0\n",
      "10     ISIC_0024316  0.0  1.0  0.0    0.0  0.0  0.0   0.0\n",
      "11     ISIC_0024317  0.0  1.0  0.0    0.0  0.0  0.0   0.0\n",
      "12     ISIC_0024318  0.0  0.0  0.0    0.0  0.0  1.0   0.0\n",
      "13     ISIC_0024319  0.0  1.0  0.0    0.0  0.0  0.0   0.0\n",
      "14     ISIC_0024320  0.0  1.0  0.0    0.0  0.0  0.0   0.0\n",
      "15     ISIC_0024321  0.0  1.0  0.0    0.0  0.0  0.0   0.0\n",
      "16     ISIC_0024322  0.0  1.0  0.0    0.0  0.0  0.0   0.0\n",
      "17     ISIC_0024323  1.0  0.0  0.0    0.0  0.0  0.0   0.0\n",
      "18     ISIC_0024324  0.0  0.0  0.0    0.0  1.0  0.0   0.0\n",
      "19     ISIC_0024325  0.0  1.0  0.0    0.0  0.0  0.0   0.0\n",
      "20     ISIC_0024326  0.0  1.0  0.0    0.0  0.0  0.0   0.0\n",
      "21     ISIC_0024327  0.0  1.0  0.0    0.0  0.0  0.0   0.0\n",
      "22     ISIC_0024328  0.0  1.0  0.0    0.0  0.0  0.0   0.0\n",
      "23     ISIC_0024329  0.0  0.0  0.0    1.0  0.0  0.0   0.0\n",
      "24     ISIC_0024330  0.0  0.0  0.0    0.0  0.0  1.0   0.0\n",
      "25     ISIC_0024331  0.0  0.0  1.0    0.0  0.0  0.0   0.0\n",
      "26     ISIC_0024332  0.0  0.0  1.0    0.0  0.0  0.0   0.0\n",
      "27     ISIC_0024333  1.0  0.0  0.0    0.0  0.0  0.0   0.0\n",
      "28     ISIC_0024334  0.0  1.0  0.0    0.0  0.0  0.0   0.0\n",
      "29     ISIC_0024335  0.0  1.0  0.0    0.0  0.0  0.0   0.0\n",
      "...             ...  ...  ...  ...    ...  ...  ...   ...\n",
      "9985   ISIC_0034291  0.0  0.0  0.0    0.0  1.0  0.0   0.0\n",
      "9986   ISIC_0034292  0.0  1.0  0.0    0.0  0.0  0.0   0.0\n",
      "9987   ISIC_0034293  0.0  1.0  0.0    0.0  0.0  0.0   0.0\n",
      "9988   ISIC_0034294  1.0  0.0  0.0    0.0  0.0  0.0   0.0\n",
      "9989   ISIC_0034295  0.0  1.0  0.0    0.0  0.0  0.0   0.0\n",
      "9990   ISIC_0034296  0.0  0.0  0.0    0.0  1.0  0.0   0.0\n",
      "9991   ISIC_0034297  0.0  1.0  0.0    0.0  0.0  0.0   0.0\n",
      "9992   ISIC_0034298  0.0  1.0  0.0    0.0  0.0  0.0   0.0\n",
      "9993   ISIC_0034299  0.0  0.0  1.0    0.0  0.0  0.0   0.0\n",
      "9994   ISIC_0034300  0.0  1.0  0.0    0.0  0.0  0.0   0.0\n",
      "9995   ISIC_0034301  0.0  1.0  0.0    0.0  0.0  0.0   0.0\n",
      "9996   ISIC_0034302  0.0  1.0  0.0    0.0  0.0  0.0   0.0\n",
      "9997   ISIC_0034303  0.0  0.0  0.0    0.0  1.0  0.0   0.0\n",
      "9998   ISIC_0034304  0.0  1.0  0.0    0.0  0.0  0.0   0.0\n",
      "9999   ISIC_0034305  0.0  1.0  0.0    0.0  0.0  0.0   0.0\n",
      "10000  ISIC_0034306  0.0  0.0  1.0    0.0  0.0  0.0   0.0\n",
      "10001  ISIC_0034307  0.0  1.0  0.0    0.0  0.0  0.0   0.0\n",
      "10002  ISIC_0034308  0.0  1.0  0.0    0.0  0.0  0.0   0.0\n",
      "10003  ISIC_0034309  0.0  1.0  0.0    0.0  0.0  0.0   0.0\n",
      "10004  ISIC_0034310  0.0  1.0  0.0    0.0  0.0  0.0   0.0\n",
      "10005  ISIC_0034311  0.0  1.0  0.0    0.0  0.0  0.0   0.0\n",
      "10006  ISIC_0034312  0.0  1.0  0.0    0.0  0.0  0.0   0.0\n",
      "10007  ISIC_0034313  1.0  0.0  0.0    0.0  0.0  0.0   0.0\n",
      "10008  ISIC_0034314  0.0  1.0  0.0    0.0  0.0  0.0   0.0\n",
      "10009  ISIC_0034315  0.0  0.0  0.0    0.0  1.0  0.0   0.0\n",
      "10010  ISIC_0034316  1.0  0.0  0.0    0.0  0.0  0.0   0.0\n",
      "10011  ISIC_0034317  1.0  0.0  0.0    0.0  0.0  0.0   0.0\n",
      "10012  ISIC_0034318  0.0  0.0  0.0    0.0  1.0  0.0   0.0\n",
      "10013  ISIC_0034319  0.0  1.0  0.0    0.0  0.0  0.0   0.0\n",
      "10014  ISIC_0034320  0.0  1.0  0.0    0.0  0.0  0.0   0.0\n",
      "\n",
      "[10015 rows x 8 columns]\n"
     ]
    }
   ],
   "source": [
    "print(img_df)"
   ]
  },
  {
   "cell_type": "code",
   "execution_count": 4,
   "metadata": {},
   "outputs": [],
   "source": [
    "index2label = {\n",
    "    0: 'MEL',\n",
    "    1: 'NV',\n",
    "    2: 'BCC',\n",
    "    3: 'AKIEC',\n",
    "    4: 'BKL',\n",
    "    5: 'DF',\n",
    "    6:'VASC',\n",
    "}"
   ]
  },
  {
   "cell_type": "code",
   "execution_count": 5,
   "metadata": {},
   "outputs": [],
   "source": [
    "label2index = {\n",
    "    'MEL': 0,\n",
    "    'NV': 1 ,\n",
    "    'BCC':2,\n",
    "    'AKIEC':3,\n",
    "    'BKL':4,\n",
    "    'DF':5,\n",
    "    'VASC':6,\n",
    "}"
   ]
  },
  {
   "cell_type": "code",
   "execution_count": 6,
   "metadata": {},
   "outputs": [],
   "source": [
    "PATH = '/Desktop/notebooks/mustafa/skin_cancer_dataset'\n",
    "file_names = img_df[['image']].values"
   ]
  },
  {
   "cell_type": "code",
   "execution_count": 7,
   "metadata": {},
   "outputs": [],
   "source": [
    "label_df = img_df.drop(['image'], axis=1)"
   ]
  },
  {
   "cell_type": "code",
   "execution_count": 8,
   "metadata": {},
   "outputs": [
    {
     "data": {
      "text/html": [
       "<div>\n",
       "<style scoped>\n",
       "    .dataframe tbody tr th:only-of-type {\n",
       "        vertical-align: middle;\n",
       "    }\n",
       "\n",
       "    .dataframe tbody tr th {\n",
       "        vertical-align: top;\n",
       "    }\n",
       "\n",
       "    .dataframe thead th {\n",
       "        text-align: right;\n",
       "    }\n",
       "</style>\n",
       "<table border=\"1\" class=\"dataframe\">\n",
       "  <thead>\n",
       "    <tr style=\"text-align: right;\">\n",
       "      <th></th>\n",
       "      <th>MEL</th>\n",
       "      <th>NV</th>\n",
       "      <th>BCC</th>\n",
       "      <th>AKIEC</th>\n",
       "      <th>BKL</th>\n",
       "      <th>DF</th>\n",
       "      <th>VASC</th>\n",
       "    </tr>\n",
       "  </thead>\n",
       "  <tbody>\n",
       "    <tr>\n",
       "      <th>0</th>\n",
       "      <td>0.0</td>\n",
       "      <td>1.0</td>\n",
       "      <td>0.0</td>\n",
       "      <td>0.0</td>\n",
       "      <td>0.0</td>\n",
       "      <td>0.0</td>\n",
       "      <td>0.0</td>\n",
       "    </tr>\n",
       "    <tr>\n",
       "      <th>1</th>\n",
       "      <td>0.0</td>\n",
       "      <td>1.0</td>\n",
       "      <td>0.0</td>\n",
       "      <td>0.0</td>\n",
       "      <td>0.0</td>\n",
       "      <td>0.0</td>\n",
       "      <td>0.0</td>\n",
       "    </tr>\n",
       "    <tr>\n",
       "      <th>2</th>\n",
       "      <td>0.0</td>\n",
       "      <td>1.0</td>\n",
       "      <td>0.0</td>\n",
       "      <td>0.0</td>\n",
       "      <td>0.0</td>\n",
       "      <td>0.0</td>\n",
       "      <td>0.0</td>\n",
       "    </tr>\n",
       "    <tr>\n",
       "      <th>3</th>\n",
       "      <td>0.0</td>\n",
       "      <td>1.0</td>\n",
       "      <td>0.0</td>\n",
       "      <td>0.0</td>\n",
       "      <td>0.0</td>\n",
       "      <td>0.0</td>\n",
       "      <td>0.0</td>\n",
       "    </tr>\n",
       "    <tr>\n",
       "      <th>4</th>\n",
       "      <td>1.0</td>\n",
       "      <td>0.0</td>\n",
       "      <td>0.0</td>\n",
       "      <td>0.0</td>\n",
       "      <td>0.0</td>\n",
       "      <td>0.0</td>\n",
       "      <td>0.0</td>\n",
       "    </tr>\n",
       "  </tbody>\n",
       "</table>\n",
       "</div>"
      ],
      "text/plain": [
       "   MEL   NV  BCC  AKIEC  BKL   DF  VASC\n",
       "0  0.0  1.0  0.0    0.0  0.0  0.0   0.0\n",
       "1  0.0  1.0  0.0    0.0  0.0  0.0   0.0\n",
       "2  0.0  1.0  0.0    0.0  0.0  0.0   0.0\n",
       "3  0.0  1.0  0.0    0.0  0.0  0.0   0.0\n",
       "4  1.0  0.0  0.0    0.0  0.0  0.0   0.0"
      ]
     },
     "execution_count": 8,
     "metadata": {},
     "output_type": "execute_result"
    }
   ],
   "source": [
    "label_df.head()"
   ]
  },
  {
   "cell_type": "code",
   "execution_count": 9,
   "metadata": {},
   "outputs": [
    {
     "name": "stderr",
     "output_type": "stream",
     "text": [
      "/home/nova/anaconda3/envs/khas_ccip_env/lib/python3.6/site-packages/ipykernel_launcher.py:3: FutureWarning: 'argmax' is deprecated, use 'idxmax' instead. The behavior of 'argmax'\n",
      "will be corrected to return the positional maximum in the future.\n",
      "Use 'series.values.argmax' to get the position of the maximum now.\n",
      "  This is separate from the ipykernel package so we can avoid doing imports until\n"
     ]
    }
   ],
   "source": [
    "labels = []\n",
    "for i in range(len(file_names)):\n",
    "    labels.append(label_df.iloc[i].argmax(axis=0))"
   ]
  },
  {
   "cell_type": "code",
   "execution_count": 10,
   "metadata": {},
   "outputs": [],
   "source": [
    "img_df['labels'] = labels"
   ]
  },
  {
   "cell_type": "code",
   "execution_count": 11,
   "metadata": {},
   "outputs": [
    {
     "data": {
      "text/html": [
       "<div>\n",
       "<style scoped>\n",
       "    .dataframe tbody tr th:only-of-type {\n",
       "        vertical-align: middle;\n",
       "    }\n",
       "\n",
       "    .dataframe tbody tr th {\n",
       "        vertical-align: top;\n",
       "    }\n",
       "\n",
       "    .dataframe thead th {\n",
       "        text-align: right;\n",
       "    }\n",
       "</style>\n",
       "<table border=\"1\" class=\"dataframe\">\n",
       "  <thead>\n",
       "    <tr style=\"text-align: right;\">\n",
       "      <th></th>\n",
       "      <th>image</th>\n",
       "      <th>MEL</th>\n",
       "      <th>NV</th>\n",
       "      <th>BCC</th>\n",
       "      <th>AKIEC</th>\n",
       "      <th>BKL</th>\n",
       "      <th>DF</th>\n",
       "      <th>VASC</th>\n",
       "      <th>labels</th>\n",
       "    </tr>\n",
       "  </thead>\n",
       "  <tbody>\n",
       "    <tr>\n",
       "      <th>0</th>\n",
       "      <td>ISIC_0024306</td>\n",
       "      <td>0.0</td>\n",
       "      <td>1.0</td>\n",
       "      <td>0.0</td>\n",
       "      <td>0.0</td>\n",
       "      <td>0.0</td>\n",
       "      <td>0.0</td>\n",
       "      <td>0.0</td>\n",
       "      <td>NV</td>\n",
       "    </tr>\n",
       "    <tr>\n",
       "      <th>1</th>\n",
       "      <td>ISIC_0024307</td>\n",
       "      <td>0.0</td>\n",
       "      <td>1.0</td>\n",
       "      <td>0.0</td>\n",
       "      <td>0.0</td>\n",
       "      <td>0.0</td>\n",
       "      <td>0.0</td>\n",
       "      <td>0.0</td>\n",
       "      <td>NV</td>\n",
       "    </tr>\n",
       "    <tr>\n",
       "      <th>2</th>\n",
       "      <td>ISIC_0024308</td>\n",
       "      <td>0.0</td>\n",
       "      <td>1.0</td>\n",
       "      <td>0.0</td>\n",
       "      <td>0.0</td>\n",
       "      <td>0.0</td>\n",
       "      <td>0.0</td>\n",
       "      <td>0.0</td>\n",
       "      <td>NV</td>\n",
       "    </tr>\n",
       "    <tr>\n",
       "      <th>3</th>\n",
       "      <td>ISIC_0024309</td>\n",
       "      <td>0.0</td>\n",
       "      <td>1.0</td>\n",
       "      <td>0.0</td>\n",
       "      <td>0.0</td>\n",
       "      <td>0.0</td>\n",
       "      <td>0.0</td>\n",
       "      <td>0.0</td>\n",
       "      <td>NV</td>\n",
       "    </tr>\n",
       "    <tr>\n",
       "      <th>4</th>\n",
       "      <td>ISIC_0024310</td>\n",
       "      <td>1.0</td>\n",
       "      <td>0.0</td>\n",
       "      <td>0.0</td>\n",
       "      <td>0.0</td>\n",
       "      <td>0.0</td>\n",
       "      <td>0.0</td>\n",
       "      <td>0.0</td>\n",
       "      <td>MEL</td>\n",
       "    </tr>\n",
       "  </tbody>\n",
       "</table>\n",
       "</div>"
      ],
      "text/plain": [
       "          image  MEL   NV  BCC  AKIEC  BKL   DF  VASC labels\n",
       "0  ISIC_0024306  0.0  1.0  0.0    0.0  0.0  0.0   0.0     NV\n",
       "1  ISIC_0024307  0.0  1.0  0.0    0.0  0.0  0.0   0.0     NV\n",
       "2  ISIC_0024308  0.0  1.0  0.0    0.0  0.0  0.0   0.0     NV\n",
       "3  ISIC_0024309  0.0  1.0  0.0    0.0  0.0  0.0   0.0     NV\n",
       "4  ISIC_0024310  1.0  0.0  0.0    0.0  0.0  0.0   0.0    MEL"
      ]
     },
     "execution_count": 11,
     "metadata": {},
     "output_type": "execute_result"
    }
   ],
   "source": [
    "img_df.head()"
   ]
  },
  {
   "cell_type": "code",
   "execution_count": 12,
   "metadata": {},
   "outputs": [],
   "source": [
    "import cv2"
   ]
  },
  {
   "cell_type": "code",
   "execution_count": null,
   "metadata": {},
   "outputs": [],
   "source": [
    "cv2.imread()"
   ]
  }
 ],
 "metadata": {
  "kernelspec": {
   "display_name": "Python 3",
   "language": "python",
   "name": "python3"
  },
  "language_info": {
   "codemirror_mode": {
    "name": "ipython",
    "version": 3
   },
   "file_extension": ".py",
   "mimetype": "text/x-python",
   "name": "python",
   "nbconvert_exporter": "python",
   "pygments_lexer": "ipython3",
   "version": "3.6.8"
  }
 },
 "nbformat": 4,
 "nbformat_minor": 2
}
